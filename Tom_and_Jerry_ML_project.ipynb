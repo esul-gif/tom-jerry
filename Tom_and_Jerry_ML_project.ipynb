{
  "cells": [
    {
      "cell_type": "markdown",
      "metadata": {
        "colab_type": "text",
        "id": "view-in-github"
      },
      "source": [
        "<a href=\"https://colab.research.google.com/github/esul-gif/tom-jerry/blob/main/Tom_and_Jerry_ML_project.ipynb\" target=\"_parent\"><img src=\"https://colab.research.google.com/assets/colab-badge.svg\" alt=\"Open In Colab\"/></a>"
      ]
    },
    {
      "cell_type": "code",
      "execution_count": null,
      "metadata": {
        "id": "izwvAaM3xpwp"
      },
      "outputs": [],
      "source": [
        "import numpy as np\n",
        "import pandas as pd #data structures and manipulation\n",
        "from skimage.io import imread #method for loading images\n",
        "from skimage.feature import hog #feature extraction to identify shape and structure"
      ]
    },
    {
      "cell_type": "markdown",
      "metadata": {
        "id": "9YVy5k9ByCF_"
      },
      "source": [
        "# Data import"
      ]
    },
    {
      "cell_type": "code",
      "execution_count": null,
      "metadata": {
        "colab": {
          "base_uri": "https://localhost:8080/"
        },
        "id": "G62PMdnE_lyx",
        "outputId": "fab3dd79-a3a1-4175-ef60-da6c24da5aac"
      },
      "outputs": [
        {
          "name": "stdout",
          "output_type": "stream",
          "text": [
            "[archive.zip]\n",
            "  End-of-central-directory signature not found.  Either this file is not\n",
            "  a zipfile, or it constitutes one disk of a multi-part archive.  In the\n",
            "  latter case the central directory and zipfile comment will be found on\n",
            "  the last disk(s) of this archive.\n",
            "unzip:  cannot find zipfile directory in one of archive.zip or\n",
            "        archive.zip.zip, and cannot find archive.zip.ZIP, period.\n"
          ]
        }
      ],
      "source": [
        "!unzip -q archive.zip -d /content"
      ]
    },
    {
      "cell_type": "code",
      "execution_count": null,
      "metadata": {
        "id": "WmX6QFpaxuZr"
      },
      "outputs": [],
      "source": [
        "gt = pd.read_csv('ground_truth.csv')\n",
        "dataset_path = '/content/dataset/Euc'"
      ]
    },
    {
      "cell_type": "code",
      "execution_count": null,
      "metadata": {
        "id": "ACe3CFBl-8EQ"
      },
      "outputs": [],
      "source": [
        "from glob import glob\n",
        "# we list the directories inside the dataset main directory\n",
        "elements = glob(join(dataset_path, '*'))\n",
        "print(len(elements), elements)"
      ]
    },
    {
      "cell_type": "code",
      "execution_count": 1,
      "metadata": {
        "id": "rBcXB6_CBP3q"
      },
      "outputs": [
        {
          "name": "stdout",
          "output_type": "stream",
          "text": [
            "hi\n"
          ]
        }
      ],
      "source": [
        "\n",
        "print('hi')\n",
        "print('do you see me')"
      ]
    }
  ],
  "metadata": {
    "colab": {
      "include_colab_link": true,
      "provenance": []
    },
    "kernelspec": {
      "display_name": "Python 3",
      "name": "python3"
    },
    "language_info": {
      "codemirror_mode": {
        "name": "ipython",
        "version": 3
      },
      "file_extension": ".py",
      "mimetype": "text/x-python",
      "name": "python",
      "nbconvert_exporter": "python",
      "pygments_lexer": "ipython3",
      "version": "3.9.12"
    }
  },
  "nbformat": 4,
  "nbformat_minor": 0
}
