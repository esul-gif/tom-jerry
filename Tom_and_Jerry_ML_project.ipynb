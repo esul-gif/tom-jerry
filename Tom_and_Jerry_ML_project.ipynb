{
  "nbformat": 4,
  "nbformat_minor": 0,
  "metadata": {
    "colab": {
      "provenance": [],
      "include_colab_link": true
    },
    "kernelspec": {
      "name": "python3",
      "display_name": "Python 3"
    },
    "language_info": {
      "name": "python"
    }
  },
  "cells": [
    {
      "cell_type": "markdown",
      "metadata": {
        "id": "view-in-github",
        "colab_type": "text"
      },
      "source": [
        "<a href=\"https://colab.research.google.com/github/esul-gif/tom-jerry/blob/main/Tom_and_Jerry_ML_project.ipynb\" target=\"_parent\"><img src=\"https://colab.research.google.com/assets/colab-badge.svg\" alt=\"Open In Colab\"/></a>"
      ]
    },
    {
      "cell_type": "code",
      "execution_count": null,
      "metadata": {
        "id": "izwvAaM3xpwp"
      },
      "outputs": [],
      "source": [
        "import numpy as np\n",
        "import pandas as pd #data structures and manipulation\n",
        "from skimage.io import imread #method for loading images\n",
        "from skimage.feature import hog #feature extraction to identify shape and structure"
      ]
    },
    {
      "cell_type": "markdown",
      "source": [
        "# Data import"
      ],
      "metadata": {
        "id": "9YVy5k9ByCF_"
      }
    },
    {
      "cell_type": "code",
      "source": [
        "!unzip -q archive.zip -d /content"
      ],
      "metadata": {
        "colab": {
          "base_uri": "https://localhost:8080/"
        },
        "id": "G62PMdnE_lyx",
        "outputId": "fab3dd79-a3a1-4175-ef60-da6c24da5aac"
      },
      "execution_count": null,
      "outputs": [
        {
          "output_type": "stream",
          "name": "stdout",
          "text": [
            "[archive.zip]\n",
            "  End-of-central-directory signature not found.  Either this file is not\n",
            "  a zipfile, or it constitutes one disk of a multi-part archive.  In the\n",
            "  latter case the central directory and zipfile comment will be found on\n",
            "  the last disk(s) of this archive.\n",
            "unzip:  cannot find zipfile directory in one of archive.zip or\n",
            "        archive.zip.zip, and cannot find archive.zip.ZIP, period.\n"
          ]
        }
      ]
    },
    {
      "cell_type": "code",
      "source": [
        "gt = pd.read_csv('ground_truth.csv')\n",
        "dataset_path = '/content/dataset/Euc'"
      ],
      "metadata": {
        "id": "WmX6QFpaxuZr"
      },
      "execution_count": null,
      "outputs": []
    },
    {
      "cell_type": "code",
      "source": [
        "from glob import glob\n",
        "# we list the directories inside the dataset main directory\n",
        "elements = glob(join(dataset_path, '*'))\n",
        "print(len(elements), elements)"
      ],
      "metadata": {
        "id": "ACe3CFBl-8EQ"
      },
      "execution_count": null,
      "outputs": []
    },
    {
      "cell_type": "code",
      "source": [],
      "metadata": {
        "id": "rBcXB6_CBP3q"
      },
      "execution_count": null,
      "outputs": []
    }
  ]
}