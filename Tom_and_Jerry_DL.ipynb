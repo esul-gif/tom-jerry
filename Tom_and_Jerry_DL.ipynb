{
 "cells": [
  {
   "cell_type": "code",
   "execution_count": 1,
   "metadata": {},
   "outputs": [
    {
     "name": "stdout",
     "output_type": "stream",
     "text": [
      "Requirement already satisfied: keras in /Users/ericsultini/opt/anaconda3/lib/python3.9/site-packages (3.1.1)\n",
      "Requirement already satisfied: absl-py in /Users/ericsultini/opt/anaconda3/lib/python3.9/site-packages (from keras) (2.1.0)\n",
      "Requirement already satisfied: numpy in /Users/ericsultini/opt/anaconda3/lib/python3.9/site-packages (from keras) (1.25.2)\n",
      "Requirement already satisfied: rich in /Users/ericsultini/opt/anaconda3/lib/python3.9/site-packages (from keras) (13.7.1)\n",
      "Requirement already satisfied: namex in /Users/ericsultini/opt/anaconda3/lib/python3.9/site-packages (from keras) (0.0.7)\n",
      "Requirement already satisfied: h5py in /Users/ericsultini/opt/anaconda3/lib/python3.9/site-packages (from keras) (3.10.0)\n",
      "Requirement already satisfied: optree in /Users/ericsultini/opt/anaconda3/lib/python3.9/site-packages (from keras) (0.11.0)\n",
      "Requirement already satisfied: ml-dtypes in /Users/ericsultini/opt/anaconda3/lib/python3.9/site-packages (from keras) (0.3.2)\n",
      "Requirement already satisfied: typing-extensions>=4.0.0 in /Users/ericsultini/opt/anaconda3/lib/python3.9/site-packages (from optree->keras) (4.1.1)\n",
      "Requirement already satisfied: markdown-it-py>=2.2.0 in /Users/ericsultini/opt/anaconda3/lib/python3.9/site-packages (from rich->keras) (3.0.0)\n",
      "Requirement already satisfied: pygments<3.0.0,>=2.13.0 in /Users/ericsultini/opt/anaconda3/lib/python3.9/site-packages (from rich->keras) (2.17.2)\n",
      "Requirement already satisfied: mdurl~=0.1 in /Users/ericsultini/opt/anaconda3/lib/python3.9/site-packages (from markdown-it-py>=2.2.0->rich->keras) (0.1.2)\n",
      "Note: you may need to restart the kernel to use updated packages.\n"
     ]
    }
   ],
   "source": [
    "pip install keras"
   ]
  },
  {
   "cell_type": "code",
   "execution_count": 2,
   "metadata": {},
   "outputs": [],
   "source": [
    "import tensorflow as tf\n",
    "from tensorflow import keras\n",
    "from keras.models import Model\n",
    "from tensorflow.keras import layers\n",
    "from tensorflow.keras.layers import Dense\n",
    "import matplotlib.pyplot as plt"
   ]
  },
  {
   "cell_type": "code",
   "execution_count": null,
   "metadata": {},
   "outputs": [],
   "source": [
    "train_ds = tf.keras.preprocessing.image_dataset_from_directory(\n",
    "    directory='tom_and_jerry',\n",
    "    labels='inferred',\n",
    "    label_mode='categorical',\n",
    "    class_names=['jerry', 'tom', 'tom_jerry_0', 'tom_jerry_1'],\n",
    "    color_mode='rgb',\n",
    "    batch_size=32,\n",
    "    image_size=(224, 224),\n",
    "    shuffle=True,\n",
    "    seed=1821,\n",
    "    validation_split=0.2,\n",
    "    subset='training',\n",
    "    interpolation='bilinear',\n",
    "    follow_links=False,\n",
    "    crop_to_aspect_ratio=False,\n",
    ")"
   ]
  },
  {
   "cell_type": "code",
   "execution_count": null,
   "metadata": {},
   "outputs": [],
   "source": [
    "val_ds = tf.keras.preprocessing.image_dataset_from_directory(\n",
    "    directory='tom_and_jerry',\n",
    "    labels='inferred',\n",
    "    label_mode='categorical',\n",
    "    class_names=['jerry', 'tom', 'tom_jerry_0', 'tom_jerry_1'],\n",
    "    color_mode='rgb',\n",
    "    batch_size=32,\n",
    "    image_size=(224, 224),\n",
    "    shuffle=True,\n",
    "    seed=1821,\n",
    "    validation_split=0.2,\n",
    "    subset='validation',\n",
    "    interpolation='bilinear',\n",
    "    follow_links=False,\n",
    "    crop_to_aspect_ratio=False,\n",
    ")"
   ]
  },
  {
   "cell_type": "code",
   "execution_count": null,
   "metadata": {},
   "outputs": [],
   "source": [
    "test_ds = tf.keras.preprocessing.image_dataset_from_directory(\n",
    "    directory='tom_and_jerry',\n",
    "    labels='inferred',\n",
    "    label_mode='categorical',\n",
    "    class_names=['jerry', 'tom', 'tom_jerry_0', 'tom_jerry_1'],\n",
    "    color_mode='rgb',\n",
    "    batch_size=32,\n",
    "    image_size=(224, 224),\n",
    "    shuffle=True,\n",
    "    seed=1821,\n",
    "    validation_split=0,\n",
    "    interpolation='bilinear',\n",
    "    follow_links=False,\n",
    "    crop_to_aspect_ratio=False,\n",
    ")"
   ]
  },
  {
   "cell_type": "code",
   "execution_count": null,
   "metadata": {},
   "outputs": [],
   "source": [
    "model = tf.keras.applications.MobileNet(\n",
    "    input_shape=None,\n",
    "    alpha=1.0,\n",
    "    depth_multiplier=1,\n",
    "    dropout=0.001,\n",
    "    include_top=True,\n",
    "    weights=\"imagenet\",\n",
    "    input_tensor=None,\n",
    "    pooling=None,\n",
    "    classes=1000,\n",
    "    classifier_activation=\"softmax\"\n",
    "    )"
   ]
  },
  {
   "cell_type": "code",
   "execution_count": null,
   "metadata": {},
   "outputs": [],
   "source": [
    "# Create a layer where input is the output of the second last layer\n",
    "output = Dense(4, activation='softmax', name='predictions')(model.layers[-2].output)\n",
    "\n",
    "# Then create the corresponding model\n",
    "model = Model(model.input, output)"
   ]
  },
  {
   "cell_type": "code",
   "execution_count": null,
   "metadata": {},
   "outputs": [],
   "source": [
    "epochs = 5\n",
    "\n",
    "callbacks = [\n",
    "    # to save the model after every epoch\n",
    "    keras.callbacks.ModelCheckpoint(\"save_at_{epoch}.h5\"),\n",
    "    # logging\n",
    "    tf.keras.callbacks.TensorBoard(log_dir=\"logs\", write_graph=True, write_images=False, update_freq=\"epoch\",)\n",
    "]\n",
    "\n",
    "model.compile(\n",
    "    optimizer=keras.optimizers.SGD(1e-3),\n",
    "    loss=\"categorical_crossentropy\",\n",
    "    metrics=[\"accuracy\"],\n",
    ")"
   ]
  },
  {
   "cell_type": "code",
   "execution_count": null,
   "metadata": {},
   "outputs": [],
   "source": [
    "model.fit(\n",
    "    train_ds, epochs=epochs, callbacks=callbacks, validation_data=val_ds,\n",
    ")"
   ]
  },
  {
   "cell_type": "code",
   "execution_count": null,
   "metadata": {},
   "outputs": [],
   "source": [
    "model_trained = keras.models.load_model('/content/save_at_1.h5')\n",
    "\n",
    "model_trained.evaluate(\n",
    "    x=test_ds,\n",
    "    y=None,\n",
    "    batch_size=32,\n",
    "    verbose=True,\n",
    "    sample_weight=None,\n",
    "    steps=None,\n",
    "    callbacks=None,\n",
    "    max_queue_size=10,\n",
    "    workers=1,\n",
    "    use_multiprocessing=False,\n",
    "    return_dict=False,\n",
    ")"
   ]
  }
 ],
 "metadata": {
  "kernelspec": {
   "display_name": "Python 3",
   "language": "python",
   "name": "python3"
  },
  "language_info": {
   "codemirror_mode": {
    "name": "ipython",
    "version": 3
   },
   "file_extension": ".py",
   "mimetype": "text/x-python",
   "name": "python",
   "nbconvert_exporter": "python",
   "pygments_lexer": "ipython3",
   "version": "3.11.9"
  }
 },
 "nbformat": 4,
 "nbformat_minor": 2
}
